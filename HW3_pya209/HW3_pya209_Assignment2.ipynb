{
 "cells": [
  {
   "cell_type": "code",
   "execution_count": 44,
   "metadata": {},
   "outputs": [],
   "source": [
    "# Homework 3 - Assigment 2\n",
    "# Pranay Anchan - pya209\n",
    "# uses NYC data portal NYC OPEN DATA https://data.cityofnewyork.us/"
   ]
  },
  {
   "cell_type": "code",
   "execution_count": null,
   "metadata": {},
   "outputs": [],
   "source": []
  },
  {
   "cell_type": "code",
   "execution_count": 45,
   "metadata": {},
   "outputs": [],
   "source": [
    "from __future__ import print_function\n",
    "import os\n",
    "import pandas as pd\n"
   ]
  },
  {
   "cell_type": "code",
   "execution_count": 46,
   "metadata": {},
   "outputs": [
    {
     "name": "stdout",
     "output_type": "stream",
     "text": [
      "  % Total    % Received % Xferd  Average Speed   Time    Time     Time  Current\n",
      "                                 Dload  Upload   Total   Spent    Left  Speed\n",
      "100  907k    0  907k    0     0  1097k      0 --:--:-- --:--:-- --:--:-- 1097k\n"
     ]
    }
   ],
   "source": [
    "!curl https://data.cityofnewyork.us/api/views/p424-amsu/rows.csv?accessType=DOWNLOAD > trafficvol.csv"
   ]
  },
  {
   "cell_type": "code",
   "execution_count": 47,
   "metadata": {},
   "outputs": [
    {
     "name": "stdout",
     "output_type": "stream",
     "text": [
      "PUIdata /nfshome/pya209/PUIdata\n"
     ]
    }
   ],
   "source": [
    "print(\"PUIdata\", os.getenv(\"PUIDATA\"))"
   ]
  },
  {
   "cell_type": "code",
   "execution_count": 48,
   "metadata": {},
   "outputs": [],
   "source": [
    "!mv trafficvol.csv $PUIDATA"
   ]
  },
  {
   "cell_type": "code",
   "execution_count": 49,
   "metadata": {},
   "outputs": [
    {
     "name": "stdout",
     "output_type": "stream",
     "text": [
      "mmr.csv  trafficvol.csv\r\n"
     ]
    }
   ],
   "source": [
    "!ls $PUIDATA"
   ]
  },
  {
   "cell_type": "code",
   "execution_count": 50,
   "metadata": {},
   "outputs": [],
   "source": [
    "traf = pd.read_csv(\"%s/trafficvol.csv\"%os.getenv(\"PUIDATA\"))"
   ]
  },
  {
   "cell_type": "code",
   "execution_count": 51,
   "metadata": {},
   "outputs": [
    {
     "data": {
      "text/html": [
       "<div>\n",
       "<table border=\"1\" class=\"dataframe\">\n",
       "  <thead>\n",
       "    <tr style=\"text-align: right;\">\n",
       "      <th></th>\n",
       "      <th>ID</th>\n",
       "      <th>Segment ID</th>\n",
       "      <th>Roadway Name</th>\n",
       "      <th>From</th>\n",
       "      <th>To</th>\n",
       "      <th>Direction</th>\n",
       "      <th>Date</th>\n",
       "      <th>12:00-1:00 AM</th>\n",
       "      <th>1:00-2:00AM</th>\n",
       "      <th>2:00-3:00AM</th>\n",
       "      <th>...</th>\n",
       "      <th>2:00-3:00PM</th>\n",
       "      <th>3:00-4:00PM</th>\n",
       "      <th>4:00-5:00PM</th>\n",
       "      <th>5:00-6:00PM</th>\n",
       "      <th>6:00-7:00PM</th>\n",
       "      <th>7:00-8:00PM</th>\n",
       "      <th>8:00-9:00PM</th>\n",
       "      <th>9:00-10:00PM</th>\n",
       "      <th>10:00-11:00PM</th>\n",
       "      <th>11:00-12:00AM</th>\n",
       "    </tr>\n",
       "  </thead>\n",
       "  <tbody>\n",
       "    <tr>\n",
       "      <th>0</th>\n",
       "      <td>1</td>\n",
       "      <td>2153</td>\n",
       "      <td>HUGUENOT AVE</td>\n",
       "      <td>WOODROW RD</td>\n",
       "      <td>STAFFORD AVE</td>\n",
       "      <td>NB</td>\n",
       "      <td>02/02/2013</td>\n",
       "      <td>106</td>\n",
       "      <td>74</td>\n",
       "      <td>45.0</td>\n",
       "      <td>...</td>\n",
       "      <td>371</td>\n",
       "      <td>398</td>\n",
       "      <td>324</td>\n",
       "      <td>394</td>\n",
       "      <td>379</td>\n",
       "      <td>329</td>\n",
       "      <td>249</td>\n",
       "      <td>197</td>\n",
       "      <td>187</td>\n",
       "      <td>169</td>\n",
       "    </tr>\n",
       "    <tr>\n",
       "      <th>1</th>\n",
       "      <td>1</td>\n",
       "      <td>2153</td>\n",
       "      <td>HUGUENOT AVE</td>\n",
       "      <td>WOODROW RD</td>\n",
       "      <td>STAFFORD AVE</td>\n",
       "      <td>NB</td>\n",
       "      <td>02/03/2013</td>\n",
       "      <td>109</td>\n",
       "      <td>74</td>\n",
       "      <td>55.0</td>\n",
       "      <td>...</td>\n",
       "      <td>308</td>\n",
       "      <td>291</td>\n",
       "      <td>313</td>\n",
       "      <td>253</td>\n",
       "      <td>242</td>\n",
       "      <td>217</td>\n",
       "      <td>210</td>\n",
       "      <td>144</td>\n",
       "      <td>125</td>\n",
       "      <td>79</td>\n",
       "    </tr>\n",
       "    <tr>\n",
       "      <th>2</th>\n",
       "      <td>1</td>\n",
       "      <td>2153</td>\n",
       "      <td>HUGUENOT AVE</td>\n",
       "      <td>WOODROW RD</td>\n",
       "      <td>STAFFORD AVE</td>\n",
       "      <td>NB</td>\n",
       "      <td>02/04/2013</td>\n",
       "      <td>36</td>\n",
       "      <td>28</td>\n",
       "      <td>11.0</td>\n",
       "      <td>...</td>\n",
       "      <td>426</td>\n",
       "      <td>425</td>\n",
       "      <td>419</td>\n",
       "      <td>469</td>\n",
       "      <td>425</td>\n",
       "      <td>358</td>\n",
       "      <td>224</td>\n",
       "      <td>185</td>\n",
       "      <td>132</td>\n",
       "      <td>74</td>\n",
       "    </tr>\n",
       "    <tr>\n",
       "      <th>3</th>\n",
       "      <td>1</td>\n",
       "      <td>2153</td>\n",
       "      <td>HUGUENOT AVE</td>\n",
       "      <td>WOODROW RD</td>\n",
       "      <td>STAFFORD AVE</td>\n",
       "      <td>NB</td>\n",
       "      <td>02/05/2013</td>\n",
       "      <td>42</td>\n",
       "      <td>28</td>\n",
       "      <td>16.0</td>\n",
       "      <td>...</td>\n",
       "      <td>393</td>\n",
       "      <td>479</td>\n",
       "      <td>441</td>\n",
       "      <td>476</td>\n",
       "      <td>446</td>\n",
       "      <td>424</td>\n",
       "      <td>305</td>\n",
       "      <td>219</td>\n",
       "      <td>171</td>\n",
       "      <td>76</td>\n",
       "    </tr>\n",
       "    <tr>\n",
       "      <th>4</th>\n",
       "      <td>1</td>\n",
       "      <td>2153</td>\n",
       "      <td>HUGUENOT AVE</td>\n",
       "      <td>WOODROW RD</td>\n",
       "      <td>STAFFORD AVE</td>\n",
       "      <td>NB</td>\n",
       "      <td>02/06/2013</td>\n",
       "      <td>35</td>\n",
       "      <td>38</td>\n",
       "      <td>12.0</td>\n",
       "      <td>...</td>\n",
       "      <td>383</td>\n",
       "      <td>384</td>\n",
       "      <td>391</td>\n",
       "      <td>369</td>\n",
       "      <td>401</td>\n",
       "      <td>338</td>\n",
       "      <td>236</td>\n",
       "      <td>186</td>\n",
       "      <td>123</td>\n",
       "      <td>76</td>\n",
       "    </tr>\n",
       "    <tr>\n",
       "      <th>5</th>\n",
       "      <td>1</td>\n",
       "      <td>2153</td>\n",
       "      <td>HUGUENOT AVE</td>\n",
       "      <td>WOODROW RD</td>\n",
       "      <td>STAFFORD AVE</td>\n",
       "      <td>NB</td>\n",
       "      <td>02/07/2013</td>\n",
       "      <td>33</td>\n",
       "      <td>26</td>\n",
       "      <td>14.0</td>\n",
       "      <td>...</td>\n",
       "      <td>151</td>\n",
       "      <td>409</td>\n",
       "      <td>422</td>\n",
       "      <td>364</td>\n",
       "      <td>356</td>\n",
       "      <td>339</td>\n",
       "      <td>275</td>\n",
       "      <td>225</td>\n",
       "      <td>169</td>\n",
       "      <td>104</td>\n",
       "    </tr>\n",
       "    <tr>\n",
       "      <th>6</th>\n",
       "      <td>1</td>\n",
       "      <td>2153</td>\n",
       "      <td>HUGUENOT AVE</td>\n",
       "      <td>WOODROW RD</td>\n",
       "      <td>STAFFORD AVE</td>\n",
       "      <td>NB</td>\n",
       "      <td>02/08/2013</td>\n",
       "      <td>35</td>\n",
       "      <td>28</td>\n",
       "      <td>18.0</td>\n",
       "      <td>...</td>\n",
       "      <td>430</td>\n",
       "      <td>518</td>\n",
       "      <td>461</td>\n",
       "      <td>485</td>\n",
       "      <td>531</td>\n",
       "      <td>393</td>\n",
       "      <td>351</td>\n",
       "      <td>276</td>\n",
       "      <td>242</td>\n",
       "      <td>154</td>\n",
       "    </tr>\n",
       "  </tbody>\n",
       "</table>\n",
       "<p>7 rows × 31 columns</p>\n",
       "</div>"
      ],
      "text/plain": [
       "   ID  Segment ID  Roadway Name        From            To Direction  \\\n",
       "0   1        2153  HUGUENOT AVE  WOODROW RD  STAFFORD AVE        NB   \n",
       "1   1        2153  HUGUENOT AVE  WOODROW RD  STAFFORD AVE        NB   \n",
       "2   1        2153  HUGUENOT AVE  WOODROW RD  STAFFORD AVE        NB   \n",
       "3   1        2153  HUGUENOT AVE  WOODROW RD  STAFFORD AVE        NB   \n",
       "4   1        2153  HUGUENOT AVE  WOODROW RD  STAFFORD AVE        NB   \n",
       "5   1        2153  HUGUENOT AVE  WOODROW RD  STAFFORD AVE        NB   \n",
       "6   1        2153  HUGUENOT AVE  WOODROW RD  STAFFORD AVE        NB   \n",
       "\n",
       "         Date  12:00-1:00 AM  1:00-2:00AM  2:00-3:00AM      ...        \\\n",
       "0  02/02/2013            106           74         45.0      ...         \n",
       "1  02/03/2013            109           74         55.0      ...         \n",
       "2  02/04/2013             36           28         11.0      ...         \n",
       "3  02/05/2013             42           28         16.0      ...         \n",
       "4  02/06/2013             35           38         12.0      ...         \n",
       "5  02/07/2013             33           26         14.0      ...         \n",
       "6  02/08/2013             35           28         18.0      ...         \n",
       "\n",
       "   2:00-3:00PM  3:00-4:00PM  4:00-5:00PM  5:00-6:00PM  6:00-7:00PM  \\\n",
       "0          371          398          324          394          379   \n",
       "1          308          291          313          253          242   \n",
       "2          426          425          419          469          425   \n",
       "3          393          479          441          476          446   \n",
       "4          383          384          391          369          401   \n",
       "5          151          409          422          364          356   \n",
       "6          430          518          461          485          531   \n",
       "\n",
       "   7:00-8:00PM  8:00-9:00PM  9:00-10:00PM  10:00-11:00PM  11:00-12:00AM  \n",
       "0          329          249           197            187            169  \n",
       "1          217          210           144            125             79  \n",
       "2          358          224           185            132             74  \n",
       "3          424          305           219            171             76  \n",
       "4          338          236           186            123             76  \n",
       "5          339          275           225            169            104  \n",
       "6          393          351           276            242            154  \n",
       "\n",
       "[7 rows x 31 columns]"
      ]
     },
     "execution_count": 51,
     "metadata": {},
     "output_type": "execute_result"
    }
   ],
   "source": [
    "traf.head(7)"
   ]
  },
  {
   "cell_type": "code",
   "execution_count": 52,
   "metadata": {},
   "outputs": [
    {
     "data": {
      "text/html": [
       "<div>\n",
       "<table border=\"1\" class=\"dataframe\">\n",
       "  <thead>\n",
       "    <tr style=\"text-align: right;\">\n",
       "      <th></th>\n",
       "      <th>ID</th>\n",
       "      <th>Segment ID</th>\n",
       "      <th>Roadway Name</th>\n",
       "      <th>From</th>\n",
       "      <th>To</th>\n",
       "      <th>Direction</th>\n",
       "      <th>Date</th>\n",
       "      <th>12:00-1:00 AM</th>\n",
       "      <th>1:00-2:00AM</th>\n",
       "      <th>2:00-3:00AM</th>\n",
       "      <th>...</th>\n",
       "      <th>2:00-3:00PM</th>\n",
       "      <th>3:00-4:00PM</th>\n",
       "      <th>4:00-5:00PM</th>\n",
       "      <th>5:00-6:00PM</th>\n",
       "      <th>6:00-7:00PM</th>\n",
       "      <th>7:00-8:00PM</th>\n",
       "      <th>8:00-9:00PM</th>\n",
       "      <th>9:00-10:00PM</th>\n",
       "      <th>10:00-11:00PM</th>\n",
       "      <th>11:00-12:00AM</th>\n",
       "    </tr>\n",
       "  </thead>\n",
       "  <tbody>\n",
       "    <tr>\n",
       "      <th>5942</th>\n",
       "      <td>377</td>\n",
       "      <td>179545</td>\n",
       "      <td>E 177 ST</td>\n",
       "      <td>HARDING AVENUE</td>\n",
       "      <td>LONGSTREET AVENUE</td>\n",
       "      <td>WB</td>\n",
       "      <td>02/05/2013</td>\n",
       "      <td>13</td>\n",
       "      <td>9</td>\n",
       "      <td>5.0</td>\n",
       "      <td>...</td>\n",
       "      <td>93</td>\n",
       "      <td>103</td>\n",
       "      <td>83</td>\n",
       "      <td>96</td>\n",
       "      <td>88</td>\n",
       "      <td>68</td>\n",
       "      <td>73</td>\n",
       "      <td>30</td>\n",
       "      <td>21</td>\n",
       "      <td>31</td>\n",
       "    </tr>\n",
       "    <tr>\n",
       "      <th>5943</th>\n",
       "      <td>377</td>\n",
       "      <td>179545</td>\n",
       "      <td>E 177 ST</td>\n",
       "      <td>HARDING AVENUE</td>\n",
       "      <td>LONGSTREET AVENUE</td>\n",
       "      <td>WB</td>\n",
       "      <td>02/06/2013</td>\n",
       "      <td>12</td>\n",
       "      <td>8</td>\n",
       "      <td>1.0</td>\n",
       "      <td>...</td>\n",
       "      <td>97</td>\n",
       "      <td>107</td>\n",
       "      <td>78</td>\n",
       "      <td>87</td>\n",
       "      <td>109</td>\n",
       "      <td>64</td>\n",
       "      <td>50</td>\n",
       "      <td>41</td>\n",
       "      <td>58</td>\n",
       "      <td>17</td>\n",
       "    </tr>\n",
       "    <tr>\n",
       "      <th>5944</th>\n",
       "      <td>377</td>\n",
       "      <td>179545</td>\n",
       "      <td>E 177 ST</td>\n",
       "      <td>HARDING AVENUE</td>\n",
       "      <td>LONGSTREET AVENUE</td>\n",
       "      <td>WB</td>\n",
       "      <td>02/07/2013</td>\n",
       "      <td>20</td>\n",
       "      <td>11</td>\n",
       "      <td>6.0</td>\n",
       "      <td>...</td>\n",
       "      <td>82</td>\n",
       "      <td>104</td>\n",
       "      <td>84</td>\n",
       "      <td>105</td>\n",
       "      <td>100</td>\n",
       "      <td>68</td>\n",
       "      <td>61</td>\n",
       "      <td>48</td>\n",
       "      <td>34</td>\n",
       "      <td>29</td>\n",
       "    </tr>\n",
       "  </tbody>\n",
       "</table>\n",
       "<p>3 rows × 31 columns</p>\n",
       "</div>"
      ],
      "text/plain": [
       "       ID  Segment ID Roadway Name              From                   To  \\\n",
       "5942  377      179545     E 177 ST   HARDING AVENUE    LONGSTREET AVENUE    \n",
       "5943  377      179545     E 177 ST   HARDING AVENUE    LONGSTREET AVENUE    \n",
       "5944  377      179545     E 177 ST   HARDING AVENUE    LONGSTREET AVENUE    \n",
       "\n",
       "     Direction        Date  12:00-1:00 AM  1:00-2:00AM  2:00-3:00AM  \\\n",
       "5942        WB  02/05/2013             13            9          5.0   \n",
       "5943        WB  02/06/2013             12            8          1.0   \n",
       "5944        WB  02/07/2013             20           11          6.0   \n",
       "\n",
       "          ...        2:00-3:00PM  3:00-4:00PM  4:00-5:00PM  5:00-6:00PM  \\\n",
       "5942      ...                 93          103           83           96   \n",
       "5943      ...                 97          107           78           87   \n",
       "5944      ...                 82          104           84          105   \n",
       "\n",
       "      6:00-7:00PM  7:00-8:00PM  8:00-9:00PM  9:00-10:00PM  10:00-11:00PM  \\\n",
       "5942           88           68           73            30             21   \n",
       "5943          109           64           50            41             58   \n",
       "5944          100           68           61            48             34   \n",
       "\n",
       "      11:00-12:00AM  \n",
       "5942             31  \n",
       "5943             17  \n",
       "5944             29  \n",
       "\n",
       "[3 rows x 31 columns]"
      ]
     },
     "execution_count": 52,
     "metadata": {},
     "output_type": "execute_result"
    }
   ],
   "source": [
    "traf.tail(3)"
   ]
  },
  {
   "cell_type": "code",
   "execution_count": 53,
   "metadata": {},
   "outputs": [
    {
     "data": {
      "text/plain": [
       "Index(['ID', 'Segment ID', 'Roadway Name', 'From', 'To', 'Direction', 'Date',\n",
       "       '12:00-1:00 AM', '1:00-2:00AM', '2:00-3:00AM', '3:00-4:00AM',\n",
       "       '4:00-5:00AM', '5:00-6:00AM', '6:00-7:00AM', '7:00-8:00AM',\n",
       "       '8:00-9:00AM', '9:00-10:00AM', '10:00-11:00AM', '11:00-12:00PM',\n",
       "       '12:00-1:00PM', '1:00-2:00PM', '2:00-3:00PM', '3:00-4:00PM',\n",
       "       '4:00-5:00PM', '5:00-6:00PM', '6:00-7:00PM', '7:00-8:00PM',\n",
       "       '8:00-9:00PM', '9:00-10:00PM', '10:00-11:00PM', '11:00-12:00AM'],\n",
       "      dtype='object')"
      ]
     },
     "execution_count": 53,
     "metadata": {},
     "output_type": "execute_result"
    }
   ],
   "source": [
    "traf.columns"
   ]
  },
  {
   "cell_type": "code",
   "execution_count": 54,
   "metadata": {},
   "outputs": [
    {
     "data": {
      "text/plain": [
       "184295"
      ]
     },
     "execution_count": 54,
     "metadata": {},
     "output_type": "execute_result"
    }
   ],
   "source": [
    "traf.size"
   ]
  },
  {
   "cell_type": "code",
   "execution_count": 84,
   "metadata": {},
   "outputs": [],
   "source": [
    "traf_2c = traf[['12:00-1:00 AM','2:00-3:00PM']]"
   ]
  },
  {
   "cell_type": "code",
   "execution_count": 85,
   "metadata": {},
   "outputs": [
    {
     "data": {
      "text/html": [
       "<div>\n",
       "<table border=\"1\" class=\"dataframe\">\n",
       "  <thead>\n",
       "    <tr style=\"text-align: right;\">\n",
       "      <th></th>\n",
       "      <th>12:00-1:00 AM</th>\n",
       "      <th>2:00-3:00PM</th>\n",
       "    </tr>\n",
       "  </thead>\n",
       "  <tbody>\n",
       "    <tr>\n",
       "      <th>0</th>\n",
       "      <td>106</td>\n",
       "      <td>371</td>\n",
       "    </tr>\n",
       "    <tr>\n",
       "      <th>1</th>\n",
       "      <td>109</td>\n",
       "      <td>308</td>\n",
       "    </tr>\n",
       "    <tr>\n",
       "      <th>2</th>\n",
       "      <td>36</td>\n",
       "      <td>426</td>\n",
       "    </tr>\n",
       "    <tr>\n",
       "      <th>3</th>\n",
       "      <td>42</td>\n",
       "      <td>393</td>\n",
       "    </tr>\n",
       "    <tr>\n",
       "      <th>4</th>\n",
       "      <td>35</td>\n",
       "      <td>383</td>\n",
       "    </tr>\n",
       "  </tbody>\n",
       "</table>\n",
       "</div>"
      ],
      "text/plain": [
       "   12:00-1:00 AM  2:00-3:00PM\n",
       "0            106          371\n",
       "1            109          308\n",
       "2             36          426\n",
       "3             42          393\n",
       "4             35          383"
      ]
     },
     "execution_count": 85,
     "metadata": {},
     "output_type": "execute_result"
    }
   ],
   "source": [
    "traf_2c.head()"
   ]
  },
  {
   "cell_type": "code",
   "execution_count": 110,
   "metadata": {},
   "outputs": [
    {
     "name": "stdout",
     "output_type": "stream",
     "text": [
      "Populating the interactive namespace from numpy and matplotlib\n"
     ]
    }
   ],
   "source": [
    "%pylab inline"
   ]
  },
  {
   "cell_type": "code",
   "execution_count": 111,
   "metadata": {},
   "outputs": [
    {
     "data": {
      "image/png": "[encoded data removed]",
      "text/plain": [
       "<matplotlib.figure.Figure at 0x7f3b08bcff60>"
      ]
     },
     "metadata": {},
     "output_type": "display_data"
    }
   ],
   "source": [
    "traf_2c.plot(x='12:00-1:00 AM',y='2:00-3:00PM',kind='scatter');"
   ]
  },
  {
   "cell_type": "markdown",
   "metadata": {},
   "source": [
    "Figure 1: Traffic volume counts between 2:00-3:00PM against 12:00-1:00 AM in NY reported by Department of Transport between years 2012-2013. The graph shows the amount of traffic is larger during 2:00-3:00PM as compared to 12:00-1:00AM."
   ]
  },
  {
   "cell_type": "markdown",
   "metadata": {},
   "source": [
    "## Using JSON "
   ]
  },
  {
   "cell_type": "code",
   "execution_count": 26,
   "metadata": {},
   "outputs": [],
   "source": [
    "url = \"https://data.cityofnewyork.us/resource/ry4b-kref.json\""
   ]
  },
  {
   "cell_type": "code",
   "execution_count": 27,
   "metadata": {},
   "outputs": [],
   "source": [
    "df = pd.read_json(url)"
   ]
  },
  {
   "cell_type": "code",
   "execution_count": 61,
   "metadata": {},
   "outputs": [
    {
     "data": {
      "text/html": [
       "<div>\n",
       "<table border=\"1\" class=\"dataframe\">\n",
       "  <thead>\n",
       "    <tr style=\"text-align: right;\">\n",
       "      <th></th>\n",
       "      <th>_10_00_11_00am</th>\n",
       "      <th>_10_00_11_00pm</th>\n",
       "      <th>_11_00_12_00am</th>\n",
       "      <th>_11_00_12_00pm</th>\n",
       "      <th>_12_00_1_00_am</th>\n",
       "      <th>_12_00_1_00pm</th>\n",
       "      <th>_1_00_2_00am</th>\n",
       "      <th>_1_00_2_00pm</th>\n",
       "      <th>_2_00_3_00am</th>\n",
       "      <th>_2_00_3_00pm</th>\n",
       "      <th>...</th>\n",
       "      <th>_8_00_9_00pm</th>\n",
       "      <th>_9_00_10_00am</th>\n",
       "      <th>_9_00_10_00pm</th>\n",
       "      <th>date</th>\n",
       "      <th>direction</th>\n",
       "      <th>from</th>\n",
       "      <th>id</th>\n",
       "      <th>roadway_name</th>\n",
       "      <th>segment_id</th>\n",
       "      <th>to</th>\n",
       "    </tr>\n",
       "  </thead>\n",
       "  <tbody>\n",
       "    <tr>\n",
       "      <th>0</th>\n",
       "      <td>387</td>\n",
       "      <td>187</td>\n",
       "      <td>169</td>\n",
       "      <td>335</td>\n",
       "      <td>106</td>\n",
       "      <td>406</td>\n",
       "      <td>74</td>\n",
       "      <td>411</td>\n",
       "      <td>45</td>\n",
       "      <td>371</td>\n",
       "      <td>...</td>\n",
       "      <td>249</td>\n",
       "      <td>278</td>\n",
       "      <td>197</td>\n",
       "      <td>2013-02-02</td>\n",
       "      <td>NB</td>\n",
       "      <td>WOODROW RD</td>\n",
       "      <td>1</td>\n",
       "      <td>HUGUENOT AVE</td>\n",
       "      <td>2153</td>\n",
       "      <td>STAFFORD AVE</td>\n",
       "    </tr>\n",
       "    <tr>\n",
       "      <th>1</th>\n",
       "      <td>249</td>\n",
       "      <td>125</td>\n",
       "      <td>79</td>\n",
       "      <td>351</td>\n",
       "      <td>109</td>\n",
       "      <td>374</td>\n",
       "      <td>74</td>\n",
       "      <td>350</td>\n",
       "      <td>55</td>\n",
       "      <td>308</td>\n",
       "      <td>...</td>\n",
       "      <td>210</td>\n",
       "      <td>204</td>\n",
       "      <td>144</td>\n",
       "      <td>2013-02-03</td>\n",
       "      <td>NB</td>\n",
       "      <td>WOODROW RD</td>\n",
       "      <td>1</td>\n",
       "      <td>HUGUENOT AVE</td>\n",
       "      <td>2153</td>\n",
       "      <td>STAFFORD AVE</td>\n",
       "    </tr>\n",
       "    <tr>\n",
       "      <th>2</th>\n",
       "      <td>282</td>\n",
       "      <td>132</td>\n",
       "      <td>74</td>\n",
       "      <td>307</td>\n",
       "      <td>36</td>\n",
       "      <td>304</td>\n",
       "      <td>28</td>\n",
       "      <td>328</td>\n",
       "      <td>11</td>\n",
       "      <td>426</td>\n",
       "      <td>...</td>\n",
       "      <td>224</td>\n",
       "      <td>263</td>\n",
       "      <td>185</td>\n",
       "      <td>2013-02-04</td>\n",
       "      <td>NB</td>\n",
       "      <td>WOODROW RD</td>\n",
       "      <td>1</td>\n",
       "      <td>HUGUENOT AVE</td>\n",
       "      <td>2153</td>\n",
       "      <td>STAFFORD AVE</td>\n",
       "    </tr>\n",
       "  </tbody>\n",
       "</table>\n",
       "<p>3 rows × 31 columns</p>\n",
       "</div>"
      ],
      "text/plain": [
       "   _10_00_11_00am  _10_00_11_00pm  _11_00_12_00am  _11_00_12_00pm  \\\n",
       "0             387             187             169             335   \n",
       "1             249             125              79             351   \n",
       "2             282             132              74             307   \n",
       "\n",
       "   _12_00_1_00_am  _12_00_1_00pm  _1_00_2_00am  _1_00_2_00pm  _2_00_3_00am  \\\n",
       "0             106            406            74           411            45   \n",
       "1             109            374            74           350            55   \n",
       "2              36            304            28           328            11   \n",
       "\n",
       "   _2_00_3_00pm      ...       _8_00_9_00pm  _9_00_10_00am  _9_00_10_00pm  \\\n",
       "0           371      ...                249            278            197   \n",
       "1           308      ...                210            204            144   \n",
       "2           426      ...                224            263            185   \n",
       "\n",
       "        date  direction        from  id  roadway_name  segment_id  \\\n",
       "0 2013-02-02         NB  WOODROW RD   1  HUGUENOT AVE        2153   \n",
       "1 2013-02-03         NB  WOODROW RD   1  HUGUENOT AVE        2153   \n",
       "2 2013-02-04         NB  WOODROW RD   1  HUGUENOT AVE        2153   \n",
       "\n",
       "             to  \n",
       "0  STAFFORD AVE  \n",
       "1  STAFFORD AVE  \n",
       "2  STAFFORD AVE  \n",
       "\n",
       "[3 rows x 31 columns]"
      ]
     },
     "execution_count": 61,
     "metadata": {},
     "output_type": "execute_result"
    }
   ],
   "source": [
    "df.head(3)"
   ]
  },
  {
   "cell_type": "code",
   "execution_count": 88,
   "metadata": {},
   "outputs": [],
   "source": [
    "traf_3c = df[['date', '_12_00_1_00_am', '_2_00_3_00pm']]"
   ]
  },
  {
   "cell_type": "code",
   "execution_count": 106,
   "metadata": {},
   "outputs": [
    {
     "name": "stderr",
     "output_type": "stream",
     "text": [
      "/usr/local/Anaconda3-5.0.0-Linux-x86_64/envs/PUI2016_Python3/lib/python3.5/site-packages/pandas/core/frame.py:2754: SettingWithCopyWarning: \n",
      "A value is trying to be set on a copy of a slice from a DataFrame\n",
      "\n",
      "See the caveats in the documentation: http://pandas.pydata.org/pandas-docs/stable/indexing.html#indexing-view-versus-copy\n",
      "  **kwargs)\n"
     ]
    }
   ],
   "source": [
    "traf_3c.rename(columns = {'date':'Date', \n",
    "               '_12_00_1_00_am':'12:00-1:00 AM', \n",
    "               '_2_00_3_00pm': '2:00-3:00PM'}, inplace=True)"
   ]
  },
  {
   "cell_type": "code",
   "execution_count": 107,
   "metadata": {},
   "outputs": [
    {
     "data": {
      "text/plain": [
       "Index(['Date', '12:00-1:00 AM', '2:00-3:00PM'], dtype='object')"
      ]
     },
     "execution_count": 107,
     "metadata": {},
     "output_type": "execute_result"
    }
   ],
   "source": [
    "traf_3c.columns"
   ]
  },
  {
   "cell_type": "code",
   "execution_count": 108,
   "metadata": {},
   "outputs": [
    {
     "data": {
      "image/png": "[encoded data removed]",
      "text/plain": [
       "<matplotlib.figure.Figure at 0x7f3b08bbbe80>"
      ]
     },
     "metadata": {},
     "output_type": "display_data"
    }
   ],
   "source": [
    "ax = traf_3c.plot(x='Date', y='12:00-1:00 AM');\n",
    "ax.set_ylabel(\"Number\");"
   ]
  },
  {
   "cell_type": "markdown",
   "metadata": {},
   "source": [
    "Figure 2: some explanation"
   ]
  },
  {
   "cell_type": "code",
   "execution_count": 109,
   "metadata": {},
   "outputs": [
    {
     "data": {
      "image/png": "[encoded data removed]",
      "text/plain": [
       "<matplotlib.figure.Figure at 0x7f3b0dd9f7b8>"
      ]
     },
     "metadata": {},
     "output_type": "display_data"
    }
   ],
   "source": [
    "ax = traf_3c.plot(x='Date', y='2:00-3:00PM');\n",
    "ax.set_ylabel(\"Number\");"
   ]
  },
  {
   "cell_type": "code",
   "execution_count": null,
   "metadata": {},
   "outputs": [],
   "source": []
  }
 ],
 "metadata": {
  "kernelspec": {
   "display_name": "PUI2016_Python3",
   "language": "python",
   "name": "pui2016_python3"
  },
  "language_info": {
   "codemirror_mode": {
    "name": "ipython",
    "version": 3
   },
   "file_extension": ".py",
   "mimetype": "text/x-python",
   "name": "python",
   "nbconvert_exporter": "python",
   "pygments_lexer": "ipython3",
   "version": "3.5.4"
  }
 },
 "nbformat": 4,
 "nbformat_minor": 2
}
