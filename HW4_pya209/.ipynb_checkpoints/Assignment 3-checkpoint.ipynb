{
 "cells": [
  {
   "cell_type": "code",
   "execution_count": 1,
   "metadata": {},
   "outputs": [],
   "source": [
    "import numpy as np\n",
    "from numpy import loadtxt\n"
   ]
  },
  {
   "cell_type": "markdown",
   "metadata": {},
   "source": [
    "# Claim: \n",
    "### Implementation of the new bus route X8 is improving commute time as compared to before implementing X8 route. "
   ]
  },
  {
   "cell_type": "markdown",
   "metadata": {},
   "source": [
    "# Null Hypothesis: \n",
    "### The average commute time is the same or longer with the new bus route compared to before implementing the new bus route.\n",
    "\n",
    "##  _$H_0$_ :  $T_{new} >= T_{old}$\n",
    "\n",
    "or\n",
    "\n",
    "##  _$H_0$_ :  $T_{new} - T_{old} >= 0$\n",
    "\n",
    "# Alternate Hypothesis:\n",
    "### The average commute time is the lesser with the new bus route compared to before implementing the new bus route.\n",
    "\n",
    "##  _$H_1$_ :  $T_{new} < T_{old}$\n",
    "\n",
    "or\n",
    "\n",
    "##  _$H_1$_ :  $T_{new} - T_{old} = 0$\n",
    "\n",
    "## Keeping significant score, $\\alpha = 0.05$\n"
   ]
  },
  {
   "cell_type": "markdown",
   "metadata": {},
   "source": [
    "## Mean is given as 36 and the standard deviation is 6.\n",
    "\n",
    "### $\\mu_{pop} = 36$\n",
    "\n",
    "### $\\sigma = 6$"
   ]
  },
  {
   "cell_type": "code",
   "execution_count": 2,
   "metadata": {},
   "outputs": [],
   "source": [
    "mu = 36\n",
    "sigma = 6"
   ]
  },
  {
   "cell_type": "code",
   "execution_count": 3,
   "metadata": {},
   "outputs": [],
   "source": [
    "records = loadtxt(\"times.txt\").astype(float)"
   ]
  },
  {
   "cell_type": "code",
   "execution_count": 4,
   "metadata": {
    "scrolled": false
   },
   "outputs": [
    {
     "data": {
      "text/plain": [
       "array([ 31.62223931,  32.82137636,  30.2291014 ,  31.41376587,\n",
       "        39.01055035,  34.82207891,  39.87188366,  39.57994562,\n",
       "        31.02658678,  27.66246068,  18.8752884 ,  46.2313731 ,\n",
       "        30.01522604,  47.6004104 ,  16.52726666,  42.4462331 ,\n",
       "        33.62527449,  42.28462558,  46.20520667,  30.87517392,\n",
       "        32.94800341,  26.17691512,  31.25699649,  35.33644554,\n",
       "        35.64072501,  40.32297174,  38.04348588,  29.4579793 ,\n",
       "        23.91636367,  34.56403521,  45.42782464,  38.95607754,\n",
       "        39.11396748,  39.67398759,  31.89148105,  22.62379325,\n",
       "        26.18910408,  43.54114213,  33.2607386 ,  31.67602384,\n",
       "        37.12846259,  38.22048496,  34.38814185,  36.11407371,\n",
       "        44.08064814,  29.59917161,  37.02411751,  41.60576556,\n",
       "        44.37860528,  38.06471077,  22.90526456,  40.27182857,\n",
       "        31.57979239,  25.88037795,  28.8913048 ,  44.33687925,\n",
       "        36.78948684,  43.46098875,  40.65557   ,  26.16634004,\n",
       "        25.13884784,  33.01581456,  32.87050073,  26.28557154,\n",
       "        39.44933037,  36.25528612,  40.719133  ,  40.57181545,\n",
       "        19.87166413,  43.21925286,  31.48102823,  37.14915056,\n",
       "        38.991504  ,  20.53059384,  27.80447692,  38.69933298,\n",
       "        30.0223142 ,  38.64884169,  26.40668884,  32.10224978,\n",
       "        28.31532754,  43.26195884,  40.3609407 ,  37.3025258 ,\n",
       "        31.45110181,  38.79599524,  36.92553372,  32.37167945,\n",
       "        23.25835631,  26.42613261,  48.74987653,  31.42512354,\n",
       "        46.80679298,  30.59748648,  20.7926322 ,  26.19785226,\n",
       "        42.7274097 ,  33.7314695 ,  37.23859057,  36.33984141])"
      ]
     },
     "execution_count": 4,
     "metadata": {},
     "output_type": "execute_result"
    }
   ],
   "source": [
    "records"
   ]
  },
  {
   "cell_type": "code",
   "execution_count": 5,
   "metadata": {},
   "outputs": [],
   "source": [
    "average = sum(records)/len(records)"
   ]
  },
  {
   "cell_type": "code",
   "execution_count": 6,
   "metadata": {},
   "outputs": [
    {
     "data": {
      "text/plain": [
       "34.466161688300012"
      ]
     },
     "execution_count": 6,
     "metadata": {},
     "output_type": "execute_result"
    }
   ],
   "source": [
    "average"
   ]
  },
  {
   "cell_type": "markdown",
   "metadata": {},
   "source": [
    "The above would be the mean of the sample. \n",
    "\n",
    "Plugging in the values for sample size of 100 in the z-test formula: \n",
    "## z = $\\frac{\\mu_{pop} - \\mu_{sample}}{\\frac{\\sigma}{\\sqrt{N}}}$"
   ]
  },
  {
   "cell_type": "code",
   "execution_count": 7,
   "metadata": {},
   "outputs": [],
   "source": [
    "N = len(records)\n",
    "z = (mu - average)/(sigma/N**(0.5))"
   ]
  },
  {
   "cell_type": "code",
   "execution_count": 8,
   "metadata": {},
   "outputs": [
    {
     "name": "stdout",
     "output_type": "stream",
     "text": [
      "The z statistics value is 2.56\n"
     ]
    }
   ],
   "source": [
    "print('The z statistics value is %.2f'%z)"
   ]
  },
  {
   "cell_type": "markdown",
   "metadata": {},
   "source": [
    "## Since we are more than 2 sigmas away from the population mean, we can reject the Null Hypothesis of $\\alpha = 0.05 $"
   ]
  }
 ],
 "metadata": {
  "kernelspec": {
   "display_name": "PUI2016_Python3",
   "language": "python",
   "name": "pui2016_python3"
  },
  "language_info": {
   "codemirror_mode": {
    "name": "ipython",
    "version": 3
   },
   "file_extension": ".py",
   "mimetype": "text/x-python",
   "name": "python",
   "nbconvert_exporter": "python",
   "pygments_lexer": "ipython3",
   "version": "3.5.4"
  }
 },
 "nbformat": 4,
 "nbformat_minor": 2
}
